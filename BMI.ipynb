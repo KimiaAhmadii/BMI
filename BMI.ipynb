{
 "cells": [
  {
   "cell_type": "code",
   "execution_count": 18,
   "metadata": {},
   "outputs": [
    {
     "name": "stdout",
     "output_type": "stream",
     "text": [
      "Ezafe vazn\n"
     ]
    }
   ],
   "source": [
    "x = float(input(\"Vazn khod ra vared konid: \"))  \n",
    "y = float(input(\"Ghad khod ra vared konid (be metr): \"))  \n",
    "\n",
    "bmi = x / (y ** 2) \n",
    "\n",
    "if bmi < 18.5:\n",
    "    print(\"Kambod vazn\")\n",
    "elif 18.5 <= bmi <= 24.9:\n",
    "    print(\"Normal\")\n",
    "elif 25 <= bmi <= 29.9:\n",
    "    print(\"Ezafe vazn\")\n",
    "else:\n",
    "    print(\"Chagh\")\n"
   ]
  }
 ],
 "metadata": {
  "kernelspec": {
   "display_name": "Python 3",
   "language": "python",
   "name": "python3"
  },
  "language_info": {
   "codemirror_mode": {
    "name": "ipython",
    "version": 3
   },
   "file_extension": ".py",
   "mimetype": "text/x-python",
   "name": "python",
   "nbconvert_exporter": "python",
   "pygments_lexer": "ipython3",
   "version": "3.8.8"
  }
 },
 "nbformat": 4,
 "nbformat_minor": 2
}
